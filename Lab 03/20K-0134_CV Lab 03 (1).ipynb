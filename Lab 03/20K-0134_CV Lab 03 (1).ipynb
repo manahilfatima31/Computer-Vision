{
 "cells": [
  {
   "cell_type": "markdown",
   "metadata": {},
   "source": [
    "## Manahil Fatima Anwar\n",
    "## 20K-0134\n",
    "## BAI-7A\n",
    "## CV Lab 03"
   ]
  },
  {
   "cell_type": "code",
   "execution_count": 3,
   "metadata": {},
   "outputs": [],
   "source": [
    "import cv2\n",
    "\n",
    "image01 = cv2.imread('Gray_Image.jpg')\n",
    "\n",
    "image1 = cv2.resize(image01, (150, 200))\n",
    "\n",
    "i1_jet = cv2.applyColorMap(image1, cv2.COLORMAP_JET)\n",
    "i1_autumn = cv2.applyColorMap(image1, cv2.COLORMAP_AUTUMN)\n",
    "i1_bone = cv2.applyColorMap(image1, cv2.COLORMAP_BONE)\n",
    "i1_cool = cv2.applyColorMap(image1, cv2.COLORMAP_COOL)\n",
    "i1_hot = cv2.applyColorMap(image1, cv2.COLORMAP_HOT)\n",
    "i1_hsv = cv2.applyColorMap(image1, cv2.COLORMAP_HSV)\n",
    "i1_rainbow = cv2.applyColorMap(image1, cv2.COLORMAP_RAINBOW)\n",
    "i1_spring = cv2.applyColorMap(image1, cv2.COLORMAP_SPRING)\n",
    "i1_summer = cv2.applyColorMap(image1, cv2.COLORMAP_SUMMER)\n",
    "i1_winter = cv2.applyColorMap(image1, cv2.COLORMAP_WINTER)\n",
    "\n",
    "\n",
    "concat = cv2.hconcat([i1_jet, i1_autumn, i1_bone, i1_cool, i1_hot, i1_hsv, i1_rainbow, i1_spring, i1_summer, i1_winter])\n",
    "cv2.imshow('Gray Image', concat)\n",
    "\n",
    "\n",
    "image02 = cv2.imread('RGB_Image.jpg')\n",
    "image2 = cv2.resize(image02, (150, 200))\n",
    "\n",
    "i2_jet = cv2.applyColorMap(image2, cv2.COLORMAP_JET)\n",
    "i2_autumn = cv2.applyColorMap(image2, cv2.COLORMAP_AUTUMN)\n",
    "i2_bone = cv2.applyColorMap(image2, cv2.COLORMAP_BONE)\n",
    "i2_cool = cv2.applyColorMap(image2, cv2.COLORMAP_COOL)\n",
    "i2_hot = cv2.applyColorMap(image2, cv2.COLORMAP_HOT)\n",
    "i2_hsv = cv2.applyColorMap(image2, cv2.COLORMAP_HSV)\n",
    "i2_rainbow = cv2.applyColorMap(image2, cv2.COLORMAP_RAINBOW)\n",
    "i2_spring = cv2.applyColorMap(image2, cv2.COLORMAP_SPRING)\n",
    "i2_summer = cv2.applyColorMap(image2, cv2.COLORMAP_SUMMER)\n",
    "i2_winter = cv2.applyColorMap(image2, cv2.COLORMAP_WINTER)\n",
    "\n",
    "\n",
    "concat2 = cv2.hconcat([i2_jet, i2_autumn, i2_bone, i2_cool, i2_hot, i2_hsv, i2_rainbow, i2_spring, i2_summer, i2_winter])\n",
    "cv2.imshow('RGB Image', concat2)\n",
    "\n",
    "cv2.imwrite(r\"C:\\Users\\test23\\Desktop\\20K-0134_CV Lab 03\\Gray_Image.jpg\", concat)\n",
    "cv2.imwrite(r\"C:\\Users\\test23\\Desktop\\20K-0134_CV Lab 03\\RGB_Image.jpg\", concat2)\n",
    "\n",
    "cv2.waitKey(0)\n",
    "cv2.destroyAllWindows()"
   ]
  }
 ],
 "metadata": {
  "kernelspec": {
   "display_name": "Python 3",
   "language": "python",
   "name": "python3"
  },
  "language_info": {
   "codemirror_mode": {
    "name": "ipython",
    "version": 3
   },
   "file_extension": ".py",
   "mimetype": "text/x-python",
   "name": "python",
   "nbconvert_exporter": "python",
   "pygments_lexer": "ipython3",
   "version": "3.8.3"
  }
 },
 "nbformat": 4,
 "nbformat_minor": 4
}
