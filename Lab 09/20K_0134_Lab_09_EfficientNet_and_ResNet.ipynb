{
  "nbformat": 4,
  "nbformat_minor": 0,
  "metadata": {
    "colab": {
      "provenance": []
    },
    "kernelspec": {
      "name": "python3",
      "display_name": "Python 3"
    },
    "language_info": {
      "name": "python"
    }
  },
  "cells": [
    {
      "cell_type": "code",
      "execution_count": 1,
      "metadata": {
        "id": "x4dl79V_AZgx"
      },
      "outputs": [],
      "source": [
        "import tensorflow as tf\n",
        "from tensorflow.keras import layers, models\n",
        "from tensorflow.keras.applications import EfficientNetB0, ResNet50\n",
        "from tensorflow.keras.preprocessing.image import ImageDataGenerator\n",
        "from tensorflow.keras.optimizers import Adam\n",
        "from tensorflow.keras.utils import to_categorical\n",
        "import numpy as np"
      ]
    },
    {
      "cell_type": "code",
      "source": [
        "(x_train, y_train), (x_test, y_test) = tf.keras.datasets.cifar10.load_data()"
      ],
      "metadata": {
        "id": "Yv6LWB5dAaij"
      },
      "execution_count": 2,
      "outputs": []
    },
    {
      "cell_type": "code",
      "source": [
        "x_train, x_test = x_train / 255.0, x_test / 255.0"
      ],
      "metadata": {
        "id": "qnYCRS9HAjy8"
      },
      "execution_count": 3,
      "outputs": []
    },
    {
      "cell_type": "code",
      "source": [
        "y_train = to_categorical(y_train, 10)\n",
        "y_test = to_categorical(y_test, 10)"
      ],
      "metadata": {
        "id": "0mOLwCOTAmX3"
      },
      "execution_count": 4,
      "outputs": []
    },
    {
      "cell_type": "code",
      "source": [
        "img_height, img_width = 32, 32\n",
        "num_classes = 10\n",
        "batch_size = 32"
      ],
      "metadata": {
        "id": "em7or-KVAqIJ"
      },
      "execution_count": 5,
      "outputs": []
    },
    {
      "cell_type": "code",
      "source": [
        "train_datagen = ImageDataGenerator(\n",
        "    rotation_range=15,\n",
        "    width_shift_range=0.1,\n",
        "    height_shift_range=0.1,\n",
        "    shear_range=0.2,\n",
        "    zoom_range=0.2,\n",
        "    horizontal_flip=True,\n",
        "    fill_mode='nearest'\n",
        ")"
      ],
      "metadata": {
        "id": "oSuDw-wNAsf4"
      },
      "execution_count": 6,
      "outputs": []
    },
    {
      "cell_type": "code",
      "source": [
        "train_generator = train_datagen.flow(x_train, y_train, batch_size=batch_size)"
      ],
      "metadata": {
        "id": "owG5HSCWAvCd"
      },
      "execution_count": 7,
      "outputs": []
    },
    {
      "cell_type": "code",
      "source": [
        "test_datagen = ImageDataGenerator()\n",
        "test_generator = test_datagen.flow(x_test, y_test, batch_size=batch_size)"
      ],
      "metadata": {
        "id": "IuyZuTT2A3CJ"
      },
      "execution_count": 8,
      "outputs": []
    },
    {
      "cell_type": "code",
      "source": [
        "efficientnet_model = EfficientNetB0(weights='imagenet', include_top=False, input_shape=(img_height, img_width, 3))"
      ],
      "metadata": {
        "id": "okUc9g8zA6W0"
      },
      "execution_count": 9,
      "outputs": []
    },
    {
      "cell_type": "code",
      "source": [
        "for layer in efficientnet_model.layers:\n",
        "    layer.trainable = False"
      ],
      "metadata": {
        "id": "FVyNxbAdA9Pe"
      },
      "execution_count": 10,
      "outputs": []
    },
    {
      "cell_type": "code",
      "source": [
        "efficientnet_based_model = models.Sequential()\n",
        "efficientnet_based_model.add(efficientnet_model)\n",
        "efficientnet_based_model.add(layers.GlobalAveragePooling2D())\n",
        "efficientnet_based_model.add(layers.Dense(256, activation='relu'))\n",
        "efficientnet_based_model.add(layers.Dropout(0.5))\n",
        "efficientnet_based_model.add(layers.Dense(num_classes, activation='softmax'))"
      ],
      "metadata": {
        "id": "uXZL_32SBAqF"
      },
      "execution_count": 11,
      "outputs": []
    },
    {
      "cell_type": "code",
      "source": [
        "efficientnet_based_model.compile(optimizer=Adam(learning_rate=0.0001), loss='categorical_crossentropy', metrics=['accuracy'])"
      ],
      "metadata": {
        "id": "jgvpJAR2BCpN"
      },
      "execution_count": 12,
      "outputs": []
    },
    {
      "cell_type": "code",
      "source": [
        "efficientnet_based_history = efficientnet_based_model.fit(\n",
        "    train_generator,\n",
        "    epochs=10,\n",
        "    validation_data=test_generator\n",
        ")"
      ],
      "metadata": {
        "colab": {
          "base_uri": "https://localhost:8080/"
        },
        "id": "FixYLhOvBEqP",
        "outputId": "9833b4a3-51f0-4c91-9707-a1a5cb228521"
      },
      "execution_count": 13,
      "outputs": [
        {
          "output_type": "stream",
          "name": "stdout",
          "text": [
            "Epoch 1/10\n",
            "1563/1563 [==============================] - 160s 96ms/step - loss: 2.3075 - accuracy: 0.0998 - val_loss: 2.3029 - val_accuracy: 0.1000\n",
            "Epoch 2/10\n",
            "1563/1563 [==============================] - 146s 94ms/step - loss: 2.3028 - accuracy: 0.0979 - val_loss: 2.3026 - val_accuracy: 0.1000\n",
            "Epoch 3/10\n",
            "1563/1563 [==============================] - 149s 95ms/step - loss: 2.3027 - accuracy: 0.0973 - val_loss: 2.3026 - val_accuracy: 0.1000\n",
            "Epoch 4/10\n",
            "1563/1563 [==============================] - 149s 95ms/step - loss: 2.3026 - accuracy: 0.0984 - val_loss: 2.3026 - val_accuracy: 0.1000\n",
            "Epoch 5/10\n",
            "1563/1563 [==============================] - 148s 95ms/step - loss: 2.3026 - accuracy: 0.0972 - val_loss: 2.3026 - val_accuracy: 0.1000\n",
            "Epoch 6/10\n",
            "1563/1563 [==============================] - 149s 95ms/step - loss: 2.3026 - accuracy: 0.0984 - val_loss: 2.3026 - val_accuracy: 0.1000\n",
            "Epoch 7/10\n",
            "1563/1563 [==============================] - 143s 91ms/step - loss: 2.3026 - accuracy: 0.0953 - val_loss: 2.3026 - val_accuracy: 0.1000\n",
            "Epoch 8/10\n",
            "1563/1563 [==============================] - 142s 91ms/step - loss: 2.3026 - accuracy: 0.0972 - val_loss: 2.3026 - val_accuracy: 0.1000\n",
            "Epoch 9/10\n",
            "1563/1563 [==============================] - 149s 95ms/step - loss: 2.3026 - accuracy: 0.0986 - val_loss: 2.3026 - val_accuracy: 0.1000\n",
            "Epoch 10/10\n",
            "1563/1563 [==============================] - 148s 95ms/step - loss: 2.3026 - accuracy: 0.0979 - val_loss: 2.3026 - val_accuracy: 0.1000\n"
          ]
        }
      ]
    },
    {
      "cell_type": "code",
      "source": [
        "resnet50_model = ResNet50(weights='imagenet', include_top=False, input_shape=(img_height, img_width, 3))"
      ],
      "metadata": {
        "colab": {
          "base_uri": "https://localhost:8080/"
        },
        "id": "YX8y8M1kC2lw",
        "outputId": "df1a3cfd-ef95-4b73-90a2-85d1ac475476"
      },
      "execution_count": 14,
      "outputs": [
        {
          "output_type": "stream",
          "name": "stdout",
          "text": [
            "Downloading data from https://storage.googleapis.com/tensorflow/keras-applications/resnet/resnet50_weights_tf_dim_ordering_tf_kernels_notop.h5\n",
            "94765736/94765736 [==============================] - 1s 0us/step\n"
          ]
        }
      ]
    },
    {
      "cell_type": "code",
      "source": [
        "for layer in resnet50_model.layers:\n",
        "    layer.trainable = False"
      ],
      "metadata": {
        "id": "M1gQs4QjBGwT"
      },
      "execution_count": 15,
      "outputs": []
    },
    {
      "cell_type": "code",
      "source": [
        "resnet50_based_model = models.Sequential()\n",
        "resnet50_based_model.add(resnet50_model)\n",
        "resnet50_based_model.add(layers.GlobalAveragePooling2D())\n",
        "resnet50_based_model.add(layers.Dense(256, activation='relu'))\n",
        "resnet50_based_model.add(layers.Dropout(0.5))\n",
        "resnet50_based_model.add(layers.Dense(num_classes, activation='softmax'))"
      ],
      "metadata": {
        "id": "ix1BAhanBJRN"
      },
      "execution_count": 16,
      "outputs": []
    },
    {
      "cell_type": "code",
      "source": [
        "resnet50_based_model.compile(optimizer=Adam(learning_rate=0.0001), loss='categorical_crossentropy', metrics=['accuracy'])"
      ],
      "metadata": {
        "id": "WEm_HTQJBMv-"
      },
      "execution_count": 17,
      "outputs": []
    },
    {
      "cell_type": "code",
      "source": [
        "resnet50_based_history = resnet50_based_model.fit(\n",
        "    train_generator,\n",
        "    epochs=10,\n",
        "    validation_data=test_generator\n",
        ")"
      ],
      "metadata": {
        "colab": {
          "base_uri": "https://localhost:8080/"
        },
        "id": "00YixpsxDUDN",
        "outputId": "2e915769-e8aa-4f61-c153-06f13216c95d"
      },
      "execution_count": 18,
      "outputs": [
        {
          "output_type": "stream",
          "name": "stdout",
          "text": [
            "Epoch 1/10\n",
            "1563/1563 [==============================] - 363s 229ms/step - loss: 2.2589 - accuracy: 0.1646 - val_loss: 2.1028 - val_accuracy: 0.2623\n",
            "Epoch 2/10\n",
            "1563/1563 [==============================] - 318s 204ms/step - loss: 2.1303 - accuracy: 0.2155 - val_loss: 2.0398 - val_accuracy: 0.2789\n",
            "Epoch 3/10\n",
            "1563/1563 [==============================] - 352s 225ms/step - loss: 2.0828 - accuracy: 0.2327 - val_loss: 1.9770 - val_accuracy: 0.2986\n",
            "Epoch 4/10\n",
            "1563/1563 [==============================] - 356s 228ms/step - loss: 2.0495 - accuracy: 0.2467 - val_loss: 1.9496 - val_accuracy: 0.3087\n",
            "Epoch 5/10\n",
            "1563/1563 [==============================] - 318s 203ms/step - loss: 2.0317 - accuracy: 0.2560 - val_loss: 1.9273 - val_accuracy: 0.3191\n",
            "Epoch 6/10\n",
            "1563/1563 [==============================] - 355s 227ms/step - loss: 2.0163 - accuracy: 0.2634 - val_loss: 1.9013 - val_accuracy: 0.3274\n",
            "Epoch 7/10\n",
            "1563/1563 [==============================] - 315s 202ms/step - loss: 2.0033 - accuracy: 0.2680 - val_loss: 1.8883 - val_accuracy: 0.3278\n",
            "Epoch 8/10\n",
            "1563/1563 [==============================] - 355s 227ms/step - loss: 1.9886 - accuracy: 0.2731 - val_loss: 1.8879 - val_accuracy: 0.3243\n",
            "Epoch 9/10\n",
            "1563/1563 [==============================] - 318s 204ms/step - loss: 1.9794 - accuracy: 0.2803 - val_loss: 1.8748 - val_accuracy: 0.3328\n",
            "Epoch 10/10\n",
            "1563/1563 [==============================] - 352s 225ms/step - loss: 1.9707 - accuracy: 0.2834 - val_loss: 1.8653 - val_accuracy: 0.3382\n"
          ]
        }
      ]
    },
    {
      "cell_type": "code",
      "source": [
        "efficientnet_based_accuracy = efficientnet_based_model.evaluate(test_generator)[1]\n",
        "resnet50_based_accuracy = resnet50_based_model.evaluate(test_generator)[1]"
      ],
      "metadata": {
        "colab": {
          "base_uri": "https://localhost:8080/"
        },
        "id": "iCsb8BWFDYFu",
        "outputId": "767c2080-9cc5-4ce2-8396-ecb8415e6f28"
      },
      "execution_count": 19,
      "outputs": [
        {
          "output_type": "stream",
          "name": "stdout",
          "text": [
            "313/313 [==============================] - 20s 63ms/step - loss: 2.3026 - accuracy: 0.1000\n",
            "313/313 [==============================] - 47s 150ms/step - loss: 1.8653 - accuracy: 0.3382\n"
          ]
        }
      ]
    },
    {
      "cell_type": "code",
      "source": [
        "print('EfficientNet-based Model Test Accuracy: {:.2%}'.format(efficientnet_based_accuracy))\n",
        "print('ResNet50-based Model Test Accuracy: {:.2%}'.format(resnet50_based_accuracy))"
      ],
      "metadata": {
        "colab": {
          "base_uri": "https://localhost:8080/"
        },
        "id": "LHwpspR7Dgaz",
        "outputId": "6f3cbf1d-f04e-4c2e-b645-b60a1bae469f"
      },
      "execution_count": 20,
      "outputs": [
        {
          "output_type": "stream",
          "name": "stdout",
          "text": [
            "EfficientNet-based Model Test Accuracy: 10.00%\n",
            "ResNet50-based Model Test Accuracy: 33.82%\n"
          ]
        }
      ]
    },
    {
      "cell_type": "code",
      "source": [
        "def predict_image(model, img_array, class_names):\n",
        "    img_array = np.expand_dims(img_array, axis=0)\n",
        "    img_array /= 255.0\n",
        "    predictions = model.predict(img_array)\n",
        "    predicted_class = np.argmax(predictions)\n",
        "    predicted_class_name = class_names[predicted_class]\n",
        "    return predicted_class_name, predictions"
      ],
      "metadata": {
        "id": "jKn8OQqZDi7K"
      },
      "execution_count": 25,
      "outputs": []
    },
    {
      "cell_type": "code",
      "source": [
        "image_path = 'dog_pic.jpg'\n",
        "img = tf.keras.preprocessing.image.load_img(image_path, target_size=(img_height, img_width))\n",
        "img_array = tf.keras.preprocessing.image.img_to_array(img)"
      ],
      "metadata": {
        "id": "141q1oKUDnxZ"
      },
      "execution_count": 31,
      "outputs": []
    },
    {
      "cell_type": "code",
      "source": [
        "class_names = [\n",
        "    'airplane', 'automobile', 'bird', 'cat', 'deer', 'dog', 'frog', 'horse', 'ship', 'truck'\n",
        "]\n",
        "efficientnet_predicted_class, efficientnet_predictions = predict_image(efficientnet_based_model, img_array, class_names)\n",
        "resnet50_predicted_class, resnet50_predictions = predict_image(resnet50_based_model, img_array, class_names)"
      ],
      "metadata": {
        "colab": {
          "base_uri": "https://localhost:8080/"
        },
        "id": "omd0-MEhDrb2",
        "outputId": "0e15f573-a523-495b-8309-ec07c24f0259"
      },
      "execution_count": 32,
      "outputs": [
        {
          "output_type": "stream",
          "name": "stdout",
          "text": [
            "1/1 [==============================] - 0s 32ms/step\n",
            "1/1 [==============================] - 0s 58ms/step\n"
          ]
        }
      ]
    },
    {
      "cell_type": "code",
      "source": [
        "print('\\nPredicted Class (EfficientNet-based Model):', efficientnet_predicted_class)\n",
        "print('Predictions (EfficientNet-based Model):', efficientnet_predictions)\n",
        "\n",
        "print('\\nPredicted Class (ResNet50-based Model):', resnet50_predicted_class)\n",
        "print('Predictions (ResNet50-based Model):', resnet50_predictions)"
      ],
      "metadata": {
        "colab": {
          "base_uri": "https://localhost:8080/"
        },
        "id": "m4rsOzfgDuLI",
        "outputId": "d8cf88b3-458e-4413-fc03-0ef8e5921f8c"
      },
      "execution_count": 33,
      "outputs": [
        {
          "output_type": "stream",
          "name": "stdout",
          "text": [
            "\n",
            "Predicted Class (EfficientNet-based Model): horse\n",
            "Predictions (EfficientNet-based Model): [[0.09998834 0.09995509 0.09995919 0.09996554 0.09999426 0.09989298\n",
            "  0.09994327 0.1001451  0.10004739 0.10010879]]\n",
            "\n",
            "Predicted Class (ResNet50-based Model): deer\n",
            "Predictions (ResNet50-based Model): [[0.03710438 0.00719727 0.18897031 0.09318926 0.3411967  0.06149691\n",
            "  0.20198525 0.03880529 0.02338013 0.00667445]]\n"
          ]
        }
      ]
    }
  ]
}